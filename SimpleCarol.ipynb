{
  "nbformat": 4,
  "nbformat_minor": 0,
  "metadata": {
    "colab": {
      "name": "SimpleCarol.ipynb",
      "provenance": [],
      "collapsed_sections": []
    },
    "kernelspec": {
      "name": "python3",
      "display_name": "Python 3"
    },
    "accelerator": "GPU"
  },
  "cells": [
    {
      "cell_type": "code",
      "metadata": {
        "id": "6Lgr5u2lzLcr",
        "colab_type": "code",
        "outputId": "3b7d0451-1c90-47e1-c17b-55728c30e67c",
        "colab": {
          "base_uri": "https://localhost:8080/",
          "height": 34
        }
      },
      "source": [
        "from google.colab import drive\n",
        "drive.mount('/content/drive')"
      ],
      "execution_count": 1,
      "outputs": [
        {
          "output_type": "stream",
          "text": [
            "Drive already mounted at /content/drive; to attempt to forcibly remount, call drive.mount(\"/content/drive\", force_remount=True).\n"
          ],
          "name": "stdout"
        }
      ]
    },
    {
      "cell_type": "code",
      "metadata": {
        "id": "CyhJ_Wg0UaEs",
        "colab_type": "code",
        "outputId": "6907d348-2f1b-435f-b2cd-c70e27d170e4",
        "colab": {
          "base_uri": "https://localhost:8080/",
          "height": 64
        }
      },
      "source": [
        "import tensorflow_datasets as tfds\n",
        "import tensorflow as tf\n",
        "\n",
        "import time\n",
        "import numpy as np\n",
        "\n",
        "import pretty_midi\n",
        "import glob\n",
        "import os \n",
        "\n",
        "import pickle"
      ],
      "execution_count": 2,
      "outputs": [
        {
          "output_type": "display_data",
          "data": {
            "text/html": [
              "<p style=\"color: red;\">\n",
              "The default version of TensorFlow in Colab will soon switch to TensorFlow 2.x.<br>\n",
              "We recommend you <a href=\"https://www.tensorflow.org/guide/migrate\" target=\"_blank\">upgrade</a> now \n",
              "or ensure your notebook will continue to use TensorFlow 1.x via the <code>%tensorflow_version 1.x</code> magic:\n",
              "<a href=\"https://colab.research.google.com/notebooks/tensorflow_version.ipynb\" target=\"_blank\">more info</a>.</p>\n"
            ],
            "text/plain": [
              "<IPython.core.display.HTML object>"
            ]
          },
          "metadata": {
            "tags": []
          }
        }
      ]
    },
    {
      "cell_type": "code",
      "metadata": {
        "id": "LMnFBIvxc_qq",
        "colab_type": "code",
        "colab": {}
      },
      "source": [
        "tf.compat.v1.enable_eager_execution()"
      ],
      "execution_count": 0,
      "outputs": []
    },
    {
      "cell_type": "markdown",
      "metadata": {
        "id": "sB5FzdItUlDD",
        "colab_type": "text"
      },
      "source": [
        "Make training data"
      ]
    },
    {
      "cell_type": "code",
      "metadata": {
        "id": "Etg-13VLy1pl",
        "colab_type": "code",
        "colab": {}
      },
      "source": [
        "def get_notes(file_path):\n",
        "    notes = []\n",
        "    ins = pretty_midi.PrettyMIDI(file_path)\n",
        "    if len(ins.instruments) > 1:\n",
        "        print(file_path, 'is not single channel')\n",
        "        return None\n",
        "    for i in ins.instruments:\n",
        "        for note in i.notes:\n",
        "            note.start = ins.time_to_tick(note.start)\n",
        "            note.end = ins.time_to_tick(note.end)\n",
        "        notes.append(i.notes)\n",
        "    return notes"
      ],
      "execution_count": 0,
      "outputs": []
    },
    {
      "cell_type": "code",
      "metadata": {
        "id": "VbaIucn3y4rI",
        "colab_type": "code",
        "outputId": "36e75181-53e1-4366-d71c-7d6b61622883",
        "colab": {
          "base_uri": "https://localhost:8080/",
          "height": 52
        }
      },
      "source": [
        "data_dir = '/content/drive/My Drive/CarolComposer/carol_dataset'\n",
        "midi_datas = []\n",
        "for x in os.walk(data_dir):\n",
        "    for y in glob.glob(os.path.join(x[0], '*.mid')):\n",
        "        midi_datas.append(y)\n",
        "\n",
        "print('total_file_num:', len(midi_datas))\n",
        "all_notes = []\n",
        "note_index = 0\n",
        "for midi_data in midi_datas:\n",
        "    midi_notes = get_notes(midi_data)\n",
        "    for notes in midi_notes:\n",
        "        notes_to_strings = []\n",
        "        for note in notes:\n",
        "            notes_to_string = str(note.start) + '/' + str(note.end) + '/' + str(note.pitch)\n",
        "            notes_to_strings.append(notes_to_string)\n",
        "        notes_to_strings.append('0/0/0')\n",
        "    all_notes.append(notes_to_strings)\n",
        "\n",
        "print(len(all_notes))"
      ],
      "execution_count": 5,
      "outputs": [
        {
          "output_type": "stream",
          "text": [
            "total_file_num: 37\n",
            "37\n"
          ],
          "name": "stdout"
        }
      ]
    },
    {
      "cell_type": "code",
      "metadata": {
        "id": "xYpTDQK50B1P",
        "colab_type": "code",
        "colab": {}
      },
      "source": [
        "idx = 0\n",
        "for notes in all_notes:\n",
        "    for note in notes:\n",
        "        idx += 1\n",
        "\n",
        "total_note_len = idx      "
      ],
      "execution_count": 0,
      "outputs": []
    },
    {
      "cell_type": "code",
      "metadata": {
        "id": "ztTrRmr2y_mn",
        "colab_type": "code",
        "colab": {}
      },
      "source": [
        "vocabs = set()\n",
        "for notes in all_notes:\n",
        "    for note in notes:\n",
        "        vocabs.add(note)\n",
        "\n",
        "vocabs = list(vocabs)\n",
        "# save musical vocabs\n",
        "with open('/content/drive/My Drive/CarolComposer/vocabs', 'wb') as fp:\n",
        "    pickle.dump(vocabs, fp)\n",
        "\n",
        "# load saved musical vocabs\n",
        "loaded_vocab = set()\n",
        "with open('/content/drive/My Drive/CarolComposer/vocabs', 'rb') as fp:\n",
        "    loaded_vocab = pickle.load(fp)"
      ],
      "execution_count": 0,
      "outputs": []
    },
    {
      "cell_type": "code",
      "metadata": {
        "id": "kteRQe46duTD",
        "colab_type": "code",
        "colab": {}
      },
      "source": [
        "note2idx = {u:i for i, u in enumerate(loaded_vocab)}\n",
        "idx2note = np.array(loaded_vocab)\n",
        "\n",
        "print('note2idx:', note2idx)\n",
        "print('idx2note:', idx2note)\n",
        "\n",
        "song_as_int = []\n",
        "\n",
        "for notes in all_notes:\n",
        "    for note in notes:\n",
        "        if note in note2idx:\n",
        "            song_as_int.append(note2idx[note])\n",
        "\n",
        "song_as_int = np.array(song_as_int)"
      ],
      "execution_count": 0,
      "outputs": []
    },
    {
      "cell_type": "code",
      "metadata": {
        "id": "7hAGOUNbfCcH",
        "colab_type": "code",
        "colab": {
          "base_uri": "https://localhost:8080/",
          "height": 34
        },
        "outputId": "697e7b19-49e2-4443-e5e5-373d2a6e071f"
      },
      "source": [
        "print(song_as_int)"
      ],
      "execution_count": 9,
      "outputs": [
        {
          "output_type": "stream",
          "text": [
            "[9210 5835 3206 ...  471  844 4050]\n"
          ],
          "name": "stdout"
        }
      ]
    },
    {
      "cell_type": "code",
      "metadata": {
        "id": "1PgswnE4yObE",
        "colab_type": "code",
        "colab": {}
      },
      "source": [
        "seq_length = 20\n",
        "examples_per_epoch = total_note_len//(seq_length+1)\n",
        "\n",
        "note_dataset = tf.data.Dataset.from_tensor_slices(song_as_int)"
      ],
      "execution_count": 0,
      "outputs": []
    },
    {
      "cell_type": "code",
      "metadata": {
        "id": "AvSs3yVGzu9F",
        "colab_type": "code",
        "colab": {}
      },
      "source": [
        "sequences = note_dataset.batch(seq_length+1, drop_remainder=True)"
      ],
      "execution_count": 0,
      "outputs": []
    },
    {
      "cell_type": "code",
      "metadata": {
        "id": "wZTW-Ble0TK1",
        "colab_type": "code",
        "colab": {}
      },
      "source": [
        "def split_input_target(chunk):\n",
        "    input_note = chunk[:-1]\n",
        "    target_note = chunk[1:]\n",
        "    return input_note, target_note\n",
        "\n",
        "dataset = sequences.map(split_input_target)"
      ],
      "execution_count": 0,
      "outputs": []
    },
    {
      "cell_type": "code",
      "metadata": {
        "id": "doVFfeX90aB7",
        "colab_type": "code",
        "colab": {}
      },
      "source": [
        "BATCH_SIZE = 64\n",
        "BUFFER_SIZE = 10000\n",
        "dataset = dataset.shuffle(BUFFER_SIZE).batch(BATCH_SIZE, drop_remainder=True)"
      ],
      "execution_count": 0,
      "outputs": []
    },
    {
      "cell_type": "markdown",
      "metadata": {
        "id": "QMiRm6T-V-WS",
        "colab_type": "text"
      },
      "source": [
        "Build model"
      ]
    },
    {
      "cell_type": "code",
      "metadata": {
        "id": "OE8nrQYA02go",
        "colab_type": "code",
        "colab": {}
      },
      "source": [
        "vocab_size = len(vocabs)\n",
        "embedding_dim = 256\n",
        "rnn_units = 512"
      ],
      "execution_count": 0,
      "outputs": []
    },
    {
      "cell_type": "code",
      "metadata": {
        "id": "XLc9jsPL07ee",
        "colab_type": "code",
        "colab": {}
      },
      "source": [
        "def build_model(vocab_size, embedding_dim, rnn_units, batch_size):\n",
        "  model = tf.keras.Sequential([\n",
        "      tf.keras.layers.Embedding(vocab_size, embedding_dim,\n",
        "                              batch_input_shape=[batch_size, None]),\n",
        "      tf.keras.layers.GRU(rnn_units,\n",
        "                        return_sequences=True,\n",
        "                        stateful=True,\n",
        "                        recurrent_initializer='glorot_uniform'),\n",
        "      tf.keras.layers.Dense(vocab_size)\n",
        "  ])\n",
        "  return model"
      ],
      "execution_count": 0,
      "outputs": []
    },
    {
      "cell_type": "code",
      "metadata": {
        "id": "wRN3moA408xJ",
        "colab_type": "code",
        "colab": {}
      },
      "source": [
        "model = build_model(\n",
        "    vocab_size = len(vocabs),\n",
        "    embedding_dim=embedding_dim,\n",
        "    rnn_units=rnn_units,\n",
        "    batch_size=BATCH_SIZE)"
      ],
      "execution_count": 0,
      "outputs": []
    },
    {
      "cell_type": "code",
      "metadata": {
        "id": "oRyy4f--1OLA",
        "colab_type": "code",
        "colab": {
          "base_uri": "https://localhost:8080/",
          "height": 260
        },
        "outputId": "431bbf1f-8512-41e8-d1f7-168c001d572a"
      },
      "source": [
        "model.summary()"
      ],
      "execution_count": 17,
      "outputs": [
        {
          "output_type": "stream",
          "text": [
            "Model: \"sequential\"\n",
            "_________________________________________________________________\n",
            "Layer (type)                 Output Shape              Param #   \n",
            "=================================================================\n",
            "embedding (Embedding)        (64, None, 256)           2476288   \n",
            "_________________________________________________________________\n",
            "gru (GRU)                    (64, None, 512)           1181184   \n",
            "_________________________________________________________________\n",
            "dense (Dense)                (64, None, 9673)          4962249   \n",
            "=================================================================\n",
            "Total params: 8,619,721\n",
            "Trainable params: 8,619,721\n",
            "Non-trainable params: 0\n",
            "_________________________________________________________________\n"
          ],
          "name": "stdout"
        }
      ]
    },
    {
      "cell_type": "code",
      "metadata": {
        "id": "b4wnWsbI1RTa",
        "colab_type": "code",
        "colab": {}
      },
      "source": [
        "def loss(labels, logits):\n",
        "    return tf.keras.losses.sparse_categorical_crossentropy(labels, logits, from_logits=True)"
      ],
      "execution_count": 0,
      "outputs": []
    },
    {
      "cell_type": "code",
      "metadata": {
        "id": "v74l36XL1Y4B",
        "colab_type": "code",
        "colab": {}
      },
      "source": [
        "my_adam = tf.keras.optimizers.Adam(lr=0.01, beta_1=0.9, beta_2=0.999, epsilon=None, decay=1e-6, amsgrad=False)\n",
        "model.compile(optimizer=my_adam, loss=loss)"
      ],
      "execution_count": 0,
      "outputs": []
    },
    {
      "cell_type": "code",
      "metadata": {
        "id": "wVd3Js_i1jVN",
        "colab_type": "code",
        "colab": {}
      },
      "source": [
        "EPOCHS=20"
      ],
      "execution_count": 0,
      "outputs": []
    },
    {
      "cell_type": "code",
      "metadata": {
        "id": "qdx6f1gv1kqj",
        "colab_type": "code",
        "colab": {}
      },
      "source": [
        "checkpoint_dir = '/content/drive/My Drive/CarolComposer/model_output'\n",
        "checkpoint_prefix = os.path.join(checkpoint_dir, \"ckpt_{epoch}\")\n",
        "\n",
        "checkpoint_callback=tf.keras.callbacks.ModelCheckpoint(\n",
        "    filepath=checkpoint_prefix,\n",
        "    save_weights_only=True)"
      ],
      "execution_count": 0,
      "outputs": []
    },
    {
      "cell_type": "code",
      "metadata": {
        "id": "OPoe7fQZ1rDn",
        "colab_type": "code",
        "colab": {
          "base_uri": "https://localhost:8080/",
          "height": 764
        },
        "outputId": "f878d3c1-372a-4c45-d63d-86907d9cecdc"
      },
      "source": [
        "history = model.fit(dataset, epochs=EPOCHS, callbacks=[checkpoint_callback])"
      ],
      "execution_count": 22,
      "outputs": [
        {
          "output_type": "stream",
          "text": [
            "Epoch 1/20\n",
            "WARNING:tensorflow:From /usr/local/lib/python3.6/dist-packages/tensorflow_core/python/ops/math_grad.py:1424: where (from tensorflow.python.ops.array_ops) is deprecated and will be removed in a future version.\n",
            "Instructions for updating:\n",
            "Use tf.where in 2.0, which has the same broadcast rule as np.where\n",
            "9/9 [==============================] - 3s 330ms/step - loss: 9.1979\n",
            "Epoch 2/20\n",
            "9/9 [==============================] - 1s 102ms/step - loss: 9.0685\n",
            "Epoch 3/20\n",
            "9/9 [==============================] - 1s 109ms/step - loss: 8.5951\n",
            "Epoch 4/20\n",
            "9/9 [==============================] - 1s 118ms/step - loss: 6.8838\n",
            "Epoch 5/20\n",
            "9/9 [==============================] - 1s 112ms/step - loss: 4.3765\n",
            "Epoch 6/20\n",
            "9/9 [==============================] - 1s 106ms/step - loss: 1.6627\n",
            "Epoch 7/20\n",
            "9/9 [==============================] - 1s 125ms/step - loss: 0.6200\n",
            "Epoch 8/20\n",
            "9/9 [==============================] - 1s 121ms/step - loss: 0.5105\n",
            "Epoch 9/20\n",
            "9/9 [==============================] - 2s 203ms/step - loss: 0.2068\n",
            "Epoch 10/20\n",
            "9/9 [==============================] - 1s 160ms/step - loss: 0.0698\n",
            "Epoch 11/20\n",
            "9/9 [==============================] - 1s 123ms/step - loss: 0.0294\n",
            "Epoch 12/20\n",
            "9/9 [==============================] - 1s 151ms/step - loss: 0.0108\n",
            "Epoch 13/20\n",
            "9/9 [==============================] - 1s 125ms/step - loss: 0.0050\n",
            "Epoch 14/20\n",
            "9/9 [==============================] - 1s 121ms/step - loss: 0.0031\n",
            "Epoch 15/20\n",
            "9/9 [==============================] - 1s 118ms/step - loss: 0.0031\n",
            "Epoch 16/20\n",
            "9/9 [==============================] - 1s 145ms/step - loss: 0.0017\n",
            "Epoch 17/20\n",
            "9/9 [==============================] - 1s 135ms/step - loss: 0.0014\n",
            "Epoch 18/20\n",
            "9/9 [==============================] - 1s 131ms/step - loss: 0.0012\n",
            "Epoch 19/20\n",
            "9/9 [==============================] - 4s 441ms/step - loss: 0.0011\n",
            "Epoch 20/20\n",
            "9/9 [==============================] - 2s 190ms/step - loss: 0.0010\n"
          ],
          "name": "stdout"
        }
      ]
    },
    {
      "cell_type": "code",
      "metadata": {
        "id": "Kj1RvI9G1sYX",
        "colab_type": "code",
        "colab": {}
      },
      "source": [
        "checkpoint_dir = '/content/drive/My Drive/CarolComposer/model_output'\n",
        "checkpoint_prefix = os.path.join(checkpoint_dir, \"ckpt_{epoch}\")\n",
        "\n",
        "checkpoint_callback=tf.keras.callbacks.ModelCheckpoint(\n",
        "    filepath=checkpoint_prefix,\n",
        "    save_weights_only=True)\n",
        "\n",
        "model = build_model(vocab_size, embedding_dim, rnn_units, batch_size=1)\n",
        "\n",
        "model.load_weights(tf.train.latest_checkpoint(checkpoint_dir))\n",
        "\n",
        "model.build(tf.TensorShape([1, None]))"
      ],
      "execution_count": 0,
      "outputs": []
    },
    {
      "cell_type": "code",
      "metadata": {
        "id": "_Ckb4EU17fj3",
        "colab_type": "code",
        "colab": {}
      },
      "source": [
        "def generate_midi_tick(model):\n",
        "    num_generate = 1000\n",
        "\n",
        "\n",
        "    input_eval = [note2idx['0/0/0']]\n",
        "    input_eval = tf.expand_dims(input_eval, 0)\n",
        "\n",
        "    generated_music = []\n",
        "\n",
        "    temperature = 1\n",
        "\n",
        "    model.reset_states()\n",
        "    for i in range(num_generate):\n",
        "        predictions = model(input_eval)\n",
        "        predictions = tf.squeeze(predictions, 0)\n",
        "\n",
        "        predictions = predictions / temperature\n",
        "        predicted_id = tf.random.categorical(predictions, num_samples=1)[-1,0].numpy()\n",
        "\n",
        "        input_eval = tf.expand_dims([predicted_id], 0)\n",
        "        if(idx2note[predicted_id] == '0/0/0'):\n",
        "            break\n",
        "        generated_music.append(idx2note[predicted_id])\n",
        "\n",
        "    return generated_music"
      ],
      "execution_count": 0,
      "outputs": []
    },
    {
      "cell_type": "code",
      "metadata": {
        "id": "i4qBvBCF73-I",
        "colab_type": "code",
        "colab": {}
      },
      "source": [
        "genereated_midis = generate_midi_tick(model)"
      ],
      "execution_count": 0,
      "outputs": []
    },
    {
      "cell_type": "code",
      "metadata": {
        "id": "bps8Cp1a9yJa",
        "colab_type": "code",
        "colab": {
          "base_uri": "https://localhost:8080/",
          "height": 34
        },
        "outputId": "d0ac8b57-5962-420a-8026-7a22018b593f"
      },
      "source": [
        "print(len(genereated_midis))"
      ],
      "execution_count": 71,
      "outputs": [
        {
          "output_type": "stream",
          "text": [
            "252\n"
          ],
          "name": "stdout"
        }
      ]
    },
    {
      "cell_type": "code",
      "metadata": {
        "id": "gdJNv5Q677d0",
        "colab_type": "code",
        "colab": {}
      },
      "source": [
        "new_music = pretty_midi.PrettyMIDI(midi_file=None, resolution=256, initial_tempo=80.0)\n",
        "piano_program = pretty_midi.instrument_name_to_program('Acoustic Grand Piano')\n",
        "piano = pretty_midi.Instrument(program=piano_program)\n",
        "\n",
        "for midi in genereated_midis:\n",
        "    start_sec = new_music.tick_to_time(int(midi.split('/')[0]))\n",
        "    end_sec = new_music.tick_to_time(int(midi.split('/')[1]))\n",
        "    pitch = int(midi.split('/')[2])\n",
        "    note = pretty_midi.Note(100, pitch, start_sec, end_sec)\n",
        "    piano.notes.append(note)\n",
        "\n",
        "new_music.instruments.append(piano)"
      ],
      "execution_count": 0,
      "outputs": []
    },
    {
      "cell_type": "code",
      "metadata": {
        "id": "1BKkxfmP-JbT",
        "colab_type": "code",
        "colab": {}
      },
      "source": [
        "new_music.write('/content/drive/My Drive/CarolComposer/output_music.mid')"
      ],
      "execution_count": 0,
      "outputs": []
    },
    {
      "cell_type": "code",
      "metadata": {
        "id": "83IxJ1a7-g0H",
        "colab_type": "code",
        "colab": {}
      },
      "source": [
        ""
      ],
      "execution_count": 0,
      "outputs": []
    }
  ]
}